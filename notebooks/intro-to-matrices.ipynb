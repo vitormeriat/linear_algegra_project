{
 "cells": [
  {
   "cell_type": "markdown",
   "id": "b1a57bd9-b776-40f9-bd49-a9f2393b2664",
   "metadata": {},
   "source": [
    "## Creating Matrices in Python using NumPy\n",
    "\n",
    "Now we will see the ways to create the matrices in Python using the NumPy library.\n",
    "\n",
    "If you don’t have the NumPy library installed on your computer, use the Python package manager (pip) to get it installed. Type the following line in your command prompt (terminal):\n",
    "\n",
    "```none\n",
    "pip install numpy\n",
    "```\n",
    "\n",
    "Plain text\n",
    "\n",
    "Copy\n",
    "\n",
    "Check my article on [setting up Python for science](https://www.codeformech.com/setting-up-python-for-science-and-engineering/) to get started.\n",
    "\n",
    "To use the functions available in the NumPy library, we first need to import it using:"
   ]
  },
  {
   "cell_type": "code",
   "execution_count": 1,
   "id": "7a94eedf-140c-4205-b247-1b167de247a7",
   "metadata": {},
   "outputs": [],
   "source": [
    "import numpy as np"
   ]
  },
  {
   "cell_type": "markdown",
   "id": "e41dc084-a5be-49d3-a65a-a51d48dd8067",
   "metadata": {},
   "source": [
    "Here **np** is called an *alias* to *numpy* and is used to avoid typing the word *numpy* every time we use any function from the library.\n",
    "\n",
    "One thing to mention before we dive in is that the matrices can be made up of integers, floating-point numbers, complex numbers, or boolean values. These are called the *data types* in the programming world.\n",
    "\n",
    "### Creating the matrices from the existing data\n",
    "\n",
    "The simplest way to create a matrix from the existing data is to use the *numpy.array( )* function. Let’s consider that we have the data in the form of a list or a tuple. The *numpy.array( )* function takes mainly two arguments, first is the *list* (or *tuple*) and second is the data type (*dtype*). The second argument is optional and the data type will be detected from the list provided by us if not specified. For example:"
   ]
  },
  {
   "cell_type": "code",
   "execution_count": 2,
   "id": "18e1c445-287c-4449-8ce5-2501f310a7e4",
   "metadata": {},
   "outputs": [
    {
     "name": "stdout",
     "output_type": "stream",
     "text": [
      "Row Matrix of integers:\n",
      "[1 2 3]\n",
      "Rectangular Matrix of floats:\n",
      "[[1. 2. 3.]\n",
      " [4. 5. 6.]]\n"
     ]
    }
   ],
   "source": [
    "A = np.array([1,2,3])\n",
    "print('Row Matrix of integers:')\n",
    "print(A)\n",
    "\n",
    "B = np.array([[1.0,2.0,3.0],[4.0,5.0,6.0]])\n",
    "print('Rectangular Matrix of floats:')\n",
    "print(B)"
   ]
  },
  {
   "cell_type": "markdown",
   "id": "50894aaf-e0c5-4c7d-afdb-97f9aadc4a22",
   "metadata": {},
   "source": [
    "Here the row matrix and the rectangular matrix are two of the [types of matrices](https://www.codeformech.com/types-of-matrices-linear-algebra-using-python/).\n",
    "\n",
    "The data type will be enforced if we specify it using the *dtype* argument to the array function."
   ]
  },
  {
   "cell_type": "code",
   "execution_count": 3,
   "id": "804d767e-a8ba-47bb-8bd1-b1c5f7e90d05",
   "metadata": {},
   "outputs": [
    {
     "name": "stdout",
     "output_type": "stream",
     "text": [
      "Matrix P with integer elements:\n",
      "[1 2 3 4 5]\n",
      "Matrix Q with real number elements:\n",
      "[[1. 2. 3.]\n",
      " [4. 5. 6.]]\n",
      "Matrix R with complex number elements:\n",
      "[[1.+0.j 2.+0.j 3.+0.j]\n",
      " [4.+0.j 5.+0.j 6.+0.j]]\n"
     ]
    }
   ],
   "source": [
    "my_list = [1,2,3,4,5]\n",
    "\n",
    "P = np.array(my_list,dtype=int)\n",
    "print('Matrix P with integer elements:')\n",
    "print(P)\n",
    "\n",
    "my_tuple = ((1,2,3),(4,5,6))\n",
    "\n",
    "Q = np.array(my_tuple ,dtype=float)\n",
    "print('Matrix Q with real number elements:')\n",
    "print(Q)\n",
    "\n",
    "R = np.array(my_tuple ,dtype=complex)\n",
    "print('Matrix R with complex number elements:')\n",
    "print(R)"
   ]
  },
  {
   "cell_type": "markdown",
   "id": "98364ea5-bb38-4c32-be07-cd5d3557a8ce",
   "metadata": {},
   "source": [
    "Another function we can use to create a [Row Matrix](https://www.codeformech.com/types-of-matrices-linear-algebra-using-python/) from an existing iterable is the *numpy.fromiter( )* function.\n",
    "\n",
    "This function takes three arguments. First is the *iterable*, second is the *dtype* and *count* is an optional argument. *count* is used to specify the number of items to be read from the *iterable* with the default value of -1, i.e., read all the elements."
   ]
  },
  {
   "cell_type": "code",
   "execution_count": 4,
   "id": "b244a555-e70d-4566-a670-0ffed7e82812",
   "metadata": {},
   "outputs": [
    {
     "name": "stdout",
     "output_type": "stream",
     "text": [
      "Matrix A:\n",
      "[1. 2. 3. 4. 5.]\n",
      "Matrix B with elements as cubes of first 5 integers:\n",
      "[  1   8  27  64 125]\n"
     ]
    }
   ],
   "source": [
    "my_list = [1,2,3,4,5] \n",
    "iter_1 = iter(my_list)\n",
    "iter_2 = (x*x*x for x in range(1,10))\n",
    "\n",
    "A = np.fromiter(iter_1,float)\n",
    "B = np.fromiter(iter_2,int,5)\n",
    "\n",
    "print('Matrix A:')\n",
    "print(A)\n",
    "print('Matrix B with elements as cubes of first 5 integers:')\n",
    "print(B)"
   ]
  },
  {
   "cell_type": "markdown",
   "id": "c6153d09-4f6c-40d9-9376-7875630fde32",
   "metadata": {},
   "source": [
    "We can also *reshape* an existing matrix to create a new matrix with a different shape, provided that the total number of elements remains the same. We will use the *reshape( )* method associated with the NumPy array."
   ]
  },
  {
   "cell_type": "code",
   "execution_count": 5,
   "id": "548769fc-ce66-42a3-ba6b-5331eefefaaa",
   "metadata": {},
   "outputs": [
    {
     "name": "stdout",
     "output_type": "stream",
     "text": [
      "Row Matrix A:\n",
      "[ 1  2  3  4  5  6  7  8  9 10 11 12]\n",
      "Matrix B:\n",
      "[[ 1  2  3  4]\n",
      " [ 5  6  7  8]\n",
      " [ 9 10 11 12]]\n",
      "Matrix C:\n",
      "[[ 1  2  3  4  5  6]\n",
      " [ 7  8  9 10 11 12]]\n"
     ]
    }
   ],
   "source": [
    "A = np.array(range(1,13)) # 12 elements\n",
    "\n",
    "B = A.reshape((3,4))\n",
    "C = B.reshape((2,6))\n",
    "\n",
    "print('Row Matrix A:')\n",
    "print(A)\n",
    "print('Matrix B:')\n",
    "print(B)\n",
    "print('Matrix C:')\n",
    "print(C)"
   ]
  },
  {
   "cell_type": "markdown",
   "id": "d16f059a-7028-4c90-b66b-4936734d9ab3",
   "metadata": {},
   "source": [
    "Along with the in-built *range( )* function used above, we can make use of the sequence generation routines from the NumPy library, which include the *arange( )*, *linspace( )* and *logspace( )* functions.\n",
    "\n",
    "The *numpy.arange( )* function can be used in the same way as the *range( )* function. The only difference is that we can have the real numbers (*float* data type) as the *start*, *stop* and *step* arguments of the function."
   ]
  },
  {
   "cell_type": "code",
   "execution_count": 6,
   "id": "75253c7e-689d-4bac-b2be-370b0f2ce30a",
   "metadata": {},
   "outputs": [
    {
     "name": "stdout",
     "output_type": "stream",
     "text": [
      "Row Matrix P:\n",
      "[2.5 2.7 2.9 3.1 3.3 3.5 3.7 3.9 4.1 4.3 4.5 4.7]\n",
      "Matrix P:\n",
      "[[2.5 2.7 2.9 3.1]\n",
      " [3.3 3.5 3.7 3.9]\n",
      " [4.1 4.3 4.5 4.7]]\n"
     ]
    }
   ],
   "source": [
    "P = np.arange(2.5,4.8,0.2)\n",
    "Q = P.reshape((3,4))\n",
    "\n",
    "print('Row Matrix P:')\n",
    "print(P)\n",
    "print('Matrix P:')\n",
    "print(Q)"
   ]
  },
  {
   "cell_type": "markdown",
   "id": "1230661d-3718-4613-ac0f-5caeac41d866",
   "metadata": {},
   "source": [
    "The *numpy.linspace( )* and *numpy.logspace( )* functions require the *start*, *stop* and the number of elements (*num*) as the primary arguments. In case of the *logspace( )* function, we can also specify the *base* of the log space. The default value of *base* is 10."
   ]
  },
  {
   "cell_type": "code",
   "execution_count": 7,
   "id": "a6a289a0-09ef-4852-936d-6d0fcddf905f",
   "metadata": {},
   "outputs": [
    {
     "name": "stdout",
     "output_type": "stream",
     "text": [
      "Matrix L:\n",
      "[[1.    1.375 1.75 ]\n",
      " [2.125 2.5   2.875]\n",
      " [3.25  3.625 4.   ]]\n",
      "------------------------------\n",
      "Matrix M:\n",
      "[[   10.            23.71373706    56.23413252]\n",
      " [  133.35214322   316.22776602   749.89420933]\n",
      " [ 1778.27941004  4216.96503429 10000.        ]]\n",
      "------------------------------\n",
      "Matrix N:\n",
      "[[   2.    4.    8.   16.   32.]\n",
      " [  64.  128.  256.  512. 1024.]]\n"
     ]
    }
   ],
   "source": [
    "L = np.reshape(np.linspace(1,4,num=9),(3,3))\n",
    "\n",
    "M = np.reshape(np.logspace(1,4,num=9),(3,3))\n",
    "N = np.reshape(np.logspace(1,10,num=10,base=2),(2,5))\n",
    "\n",
    "print('Matrix L:')\n",
    "print(L)\n",
    "print('------------------------------')\n",
    "print('Matrix M:')\n",
    "print(M)\n",
    "print('------------------------------')\n",
    "print('Matrix N:')\n",
    "print(N)"
   ]
  },
  {
   "cell_type": "markdown",
   "id": "c65f14dd-db4e-4aaa-b4d0-8c20de237dd8",
   "metadata": {},
   "source": [
    "### Creating the matrices with zeros and ones\n",
    "\n",
    "Various functions are available in NumPy to create matrices with different combinations of zeros and ones.\n",
    "\n",
    "##### Null or Zero Matrix\n",
    "\n",
    "The *numpy.zeros( )* function is used to create a [Null or Zero Matrix](https://www.codeformech.com/types-of-matrices-linear-algebra-using-python/). This function takes the tuple of the shape of a matrix as an input and the data type is an optional argument."
   ]
  },
  {
   "cell_type": "code",
   "execution_count": 8,
   "id": "0eacb911-e2dc-46d6-8560-2df144e3aded",
   "metadata": {},
   "outputs": [
    {
     "name": "stdout",
     "output_type": "stream",
     "text": [
      "Matrix L:\n",
      "[0. 0. 0.]\n",
      "Matrix M:\n",
      "[[0. 0. 0. 0.]\n",
      " [0. 0. 0. 0.]]\n",
      "Matrix N:\n",
      "[[0]\n",
      " [0]\n",
      " [0]]\n"
     ]
    }
   ],
   "source": [
    "L = np.zeros(3)\n",
    "M = np.zeros((2,4))\n",
    "N = np.zeros((3,1),dtype='int')\n",
    "\n",
    "print('Matrix L:')\n",
    "print(L)\n",
    "print('Matrix M:')\n",
    "print(M)\n",
    "print('Matrix N:')\n",
    "print(N)"
   ]
  },
  {
   "cell_type": "markdown",
   "id": "2270f205-1204-48a2-84ea-bbe06ed0f066",
   "metadata": {},
   "source": [
    "Here the null matrix $N$ is also a [Column Matrix](https://www.codeformech.com/types-of-matrices-linear-algebra-using-python/).\n",
    "\n",
    "There is one more function to create a zero matrix, with the same number of rows and columns as any given matrix called *numpy.zero_like( )*. The same data type as the input matrix is followed."
   ]
  },
  {
   "cell_type": "code",
   "execution_count": 9,
   "id": "41bc7aee-734f-4ef3-9cd3-3ddecc802276",
   "metadata": {},
   "outputs": [
    {
     "name": "stdout",
     "output_type": "stream",
     "text": [
      "Matrix A:\n",
      "[[1 2 3]\n",
      " [4 5 6]]\n",
      "Zero Matrix K:\n",
      "[[0 0 0]\n",
      " [0 0 0]]\n"
     ]
    }
   ],
   "source": [
    "A = np.array([[1,2,3],[4,5,6]])\n",
    "K = np.zeros_like(A)\n",
    "\n",
    "print('Matrix A:')\n",
    "print(A)\n",
    "print('Zero Matrix K:')\n",
    "print(K)"
   ]
  },
  {
   "cell_type": "markdown",
   "id": "1c31046d-8a94-451b-b1df-48378f83fcb4",
   "metadata": {},
   "source": [
    "##### Matrix of Ones\n",
    "\n",
    "The *numpy.ones( )* function is used to create a matrix made up of ones. Similar to the zeros function, this function takes shape of a matrix as an input and the data type is an optional argument."
   ]
  },
  {
   "cell_type": "code",
   "execution_count": null,
   "id": "058e4ff0-6adf-4478-8ed1-f50c8d25e30f",
   "metadata": {},
   "outputs": [],
   "source": []
  },
  {
   "cell_type": "markdown",
   "id": "6724700b-8867-434a-b626-4dbe310e4fab",
   "metadata": {},
   "source": []
  },
  {
   "cell_type": "code",
   "execution_count": null,
   "id": "0d24e68a-eb3a-4798-928e-ef7900936f18",
   "metadata": {},
   "outputs": [],
   "source": []
  },
  {
   "cell_type": "markdown",
   "id": "d87a216a-47e3-45b2-a21d-b9522c07a176",
   "metadata": {},
   "source": []
  },
  {
   "cell_type": "code",
   "execution_count": null,
   "id": "895190fb-efa1-4ec6-a64a-740c9cc44c02",
   "metadata": {},
   "outputs": [],
   "source": []
  },
  {
   "cell_type": "markdown",
   "id": "49f981ba-c07f-42e6-bc3f-a2376981c78d",
   "metadata": {},
   "source": []
  },
  {
   "cell_type": "code",
   "execution_count": null,
   "id": "36d048c0-7c87-433c-bfd7-fc71a30a72b5",
   "metadata": {},
   "outputs": [],
   "source": []
  },
  {
   "cell_type": "markdown",
   "id": "023fc69a-75b4-403e-91e7-8a64672892f6",
   "metadata": {},
   "source": []
  },
  {
   "cell_type": "code",
   "execution_count": null,
   "id": "8ccfa3a5-a23f-42ed-9de1-f9e3a55fe7dd",
   "metadata": {},
   "outputs": [],
   "source": []
  },
  {
   "cell_type": "markdown",
   "id": "f5815acd-03f9-49b9-a58b-3f34767bd271",
   "metadata": {},
   "source": []
  },
  {
   "cell_type": "code",
   "execution_count": null,
   "id": "9908242b-5371-4bdd-854a-20f0327a37b5",
   "metadata": {},
   "outputs": [],
   "source": []
  },
  {
   "cell_type": "markdown",
   "id": "c390fd64-6eb6-4900-9339-b851ac358ab2",
   "metadata": {},
   "source": []
  },
  {
   "cell_type": "code",
   "execution_count": null,
   "id": "686aeba4-d0ae-4f30-ad32-d5e23c40dc97",
   "metadata": {},
   "outputs": [],
   "source": []
  },
  {
   "cell_type": "code",
   "execution_count": null,
   "id": "514b40df",
   "metadata": {},
   "outputs": [],
   "source": []
  },
  {
   "cell_type": "code",
   "execution_count": null,
   "id": "d40f9efe",
   "metadata": {},
   "outputs": [],
   "source": []
  },
  {
   "cell_type": "code",
   "execution_count": null,
   "id": "4bf0e3fe",
   "metadata": {},
   "outputs": [],
   "source": []
  }
 ],
 "metadata": {
  "kernelspec": {
   "display_name": "Python 3",
   "language": "python",
   "name": "python3"
  },
  "language_info": {
   "codemirror_mode": {
    "name": "ipython",
    "version": 3
   },
   "file_extension": ".py",
   "mimetype": "text/x-python",
   "name": "python",
   "nbconvert_exporter": "python",
   "pygments_lexer": "ipython3",
   "version": "3.7.11"
  }
 },
 "nbformat": 4,
 "nbformat_minor": 5
}
